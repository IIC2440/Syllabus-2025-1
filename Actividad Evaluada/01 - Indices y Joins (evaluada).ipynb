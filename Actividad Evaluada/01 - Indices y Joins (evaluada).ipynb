{
 "cells": [
  {
   "cell_type": "markdown",
   "metadata": {},
   "source": [
    "# Actividad Evaluada 1"
   ]
  },
  {
   "cell_type": "markdown",
   "metadata": {},
   "source": [
    "## Administrativos"
   ]
  },
  {
   "cell_type": "markdown",
   "metadata": {},
   "source": [
    "- El trabajo es individual. Puedes consultar y discutir con tus compañeras y compañeros, pero a la hora de escribir el código, no puedes compartirlo con nadie. Puedes usar recursos como internet y modelos de lenguaje, pero tienes que ser explícito en la cita o en el lugar donde los usaste.\n",
    "\n",
    "- La entrega es el viernes 21 de marzo a las 20:00 horas. El úncio archivo a entregar es una copia de tu notebook, que deberás subir en canvas antes de ese día/hora. \n",
    "\n",
    "- Si tienes dudas, aprovéchanos, vamos a estar en la sala para ayudar. Recuerda que el objetivo en estas actividades es aprender y evaluar al mismo tiempo, ¡está bien si no todo sale a la primera!."
   ]
  },
  {
   "cell_type": "markdown",
   "metadata": {},
   "source": [
    "## Enunciado"
   ]
  },
  {
   "cell_type": "markdown",
   "metadata": {},
   "source": [
    "### Datos\n",
    "\n",
    "Trabajaremos con: \n",
    "\n",
    "- Una tabla de `People(id, name, department)`, que almacena el identificador, nombre y el área de donde trabajan personas en una organización. \n",
    "- Una tabla de `Projects(id, name, month, year)`, con el id y el nombre de los proyectos en esa organización. Por simplicidad, vamos a guardar el momento de inicio de los proyectos basado en el mes y año en el que partieron como números enteros.\n",
    "- Una relación entre ambas entidades, llamada `People_Projects(person_id, project_id)` que relaciona las personas con los proyectos en que trabajan. Cabe destacar que la relación entre estas es de 1 a $n$: cada persona participa en a lo más un proyecto, y los proyectos pueden tener a muchas personas trabajando en ellos.\n",
    "\n",
    "Acá va un ejemplo de como se podrían ver los datos:"
   ]
  },
  {
   "cell_type": "code",
   "execution_count": 4,
   "metadata": {},
   "outputs": [],
   "source": [
    "people = [\n",
    "    (1, \"John Smith\", \"IT\"),\n",
    "    (5, \"Sarah Johnson\", \"Management\"),\n",
    "    (2, \"Michael Chen\", \"Management\"),\n",
    "    (3, \"Emma Wilson\", \"IT\"),\n",
    "    (10, \"David Rodriguez\", \"HR\"),\n",
    "    (4, \"Lisa Thompson\", \"Finance\"),\n",
    "    (6, \"Robert Kim\", \"Finance\"),\n",
    "    (15, \"Maria Garcia\", \"IT\"),\n",
    "    (7, \"James Anderson\", \"Management\"),\n",
    "    (22, \"Emily Brown\", \"Management\"),\n",
    "    (31, \"Thomas Lee\", \"IT\"),\n",
    "    (11, \"Ana Martinez\", \"HR\"),\n",
    "    (9, \"William Taylor\", \"Finance\"),\n",
    "    (33, \"Sophie Parker\", \"IT\"),\n",
    "]\n",
    "\n",
    "projects = [\n",
    "    (1, \"ERP Implementation\", 3, 2024),\n",
    "    (2, \"Cloud Migration\", 6, 2024),\n",
    "    (3, \"Mobile App Development\", 4, 2024),\n",
    "    (4, \"Cybersecurity Upgrade\", 8, 2023),\n",
    "    (5, \"Data Analytics Platform\", 11, 2023),\n",
    "    (6, \"Website Redesign\", 2, 2024),\n",
    "    (7, \"HR Digital Transformation\", 9, 2023),\n",
    "    (8, \"Customer Portal\", 5, 2024),\n",
    "    (9, \"AI Chatbot Integration\", 7, 2023),\n",
    "    (10, \"Infrastructure Modernization\", 12, 2023)\n",
    "]\n",
    "\n",
    "# Formato (person_id, project_id)\n",
    "people_projects = [\n",
    "    (1, 1), (2, 3), (10, 1), \n",
    "    (5, 2), (6, 2), (33, 2), \n",
    "    (15, 3), (3, 4), (31, 4), \n",
    "    (7, 5), (9, 5), (4, 6), \n",
    "    (11, 7), (22, 8)\n",
    "]"
   ]
  },
  {
   "cell_type": "markdown",
   "metadata": {},
   "source": [
    "#### Manejo de datos \n",
    "\n",
    "Vamos a construir una clase `Table`, para acceder a los datos de arriba. El acceso es mediante un iterador, que implementa `iter()` y `next()`, y mediante `index_access(id_indice, element)`, que permite acceder a elementos como si fuera un hash-index.\n"
   ]
  },
  {
   "cell_type": "code",
   "execution_count": 5,
   "metadata": {},
   "outputs": [],
   "source": [
    "class Table:\n",
    "    def __init__(self, data):\n",
    "        self.data = data\n",
    "        self.indexes = []\n",
    "\n",
    "    def __iter__(self):\n",
    "        self.current_iter = 0\n",
    "        return self\n",
    "\n",
    "    def __next__(self):\n",
    "        if self.current_iter < len(self.data):\n",
    "            value = self.data[self.current_iter]\n",
    "            self.current_iter += 1\n",
    "            return value\n",
    "        else:\n",
    "            raise StopIteration\n",
    "\n",
    "    def create_primary_index(self, position):\n",
    "        index = {}\n",
    "        for tup in self.data:\n",
    "            index[tup[position]] = tup\n",
    "        self.indexes.append(index)\n",
    "        return len(self.indexes) - 1\n",
    "\n",
    "    def index_access(self, index_id, element):\n",
    "        return self.indexes[index_id][element]"
   ]
  },
  {
   "cell_type": "code",
   "execution_count": 6,
   "metadata": {},
   "outputs": [
    {
     "name": "stdout",
     "output_type": "stream",
     "text": [
      "(1, 'John Smith', 'IT')\n",
      "(5, 'Sarah Johnson', 'Management')\n",
      "(2, 'Michael Chen', 'Management')\n",
      "(3, 'Emma Wilson', 'IT')\n",
      "(10, 'David Rodriguez', 'HR')\n",
      "(4, 'Lisa Thompson', 'Finance')\n",
      "(6, 'Robert Kim', 'Finance')\n",
      "(15, 'Maria Garcia', 'IT')\n",
      "(7, 'James Anderson', 'Management')\n",
      "(22, 'Emily Brown', 'Management')\n",
      "(31, 'Thomas Lee', 'IT')\n",
      "(11, 'Ana Martinez', 'HR')\n",
      "(9, 'William Taylor', 'Finance')\n",
      "(33, 'Sophie Parker', 'IT')\n"
     ]
    }
   ],
   "source": [
    "## Ejemplo de como iterar una tabla\n",
    "\n",
    "table_people = Table(people)\n",
    "iterador = iter(table_people)\n",
    "for x in iterador:\n",
    "    print(x)"
   ]
  },
  {
   "cell_type": "code",
   "execution_count": 7,
   "metadata": {},
   "outputs": [
    {
     "data": {
      "text/plain": [
       "(3, 'Emma Wilson', 'IT')"
      ]
     },
     "execution_count": 7,
     "metadata": {},
     "output_type": "execute_result"
    }
   ],
   "source": [
    "## Crear un índice en el atributo id de People (posición 0)\n",
    "# Luego se usa para encontrar la tupla con id 3\n",
    "\n",
    "table_people.create_primary_index(0)\n",
    "table_people.index_access(0, 3)"
   ]
  },
  {
   "cell_type": "markdown",
   "metadata": {},
   "source": [
    "### Parte 1 [0,5 pts] - Consultas con índices primarios\n",
    "\n",
    "1. Crea los índices necesarios para contestar la siguiente consulta en un tiempo acotado por la cantidad de personas en la base de datos, y detalla la estrategia para contestar esta consulta con los índices:\n",
    "\n",
    "```SQL\n",
    "SELECT People.name, Projects.name \n",
    "FROM People, Projects, People_Projects\n",
    "WHERE People.id = People_Projects.person_id \n",
    "  AND Projects.id = People_Projects.project_id\n",
    "```\n",
    "\n",
    "2. Ejecuta un script que conteste esta consulta, a partir de las instancias de clase `Table` que creaste, usando solamente el iterador y la función `index_access` provistas para esa tabla. Tu script debe usar adecuadamente los índices y tu estrategia sugerida en el punto anterior."
   ]
  },
  {
   "cell_type": "code",
   "execution_count": 34,
   "metadata": {},
   "outputs": [],
   "source": [
    "### Parte 1.1\n",
    "\n"
   ]
  },
  {
   "cell_type": "markdown",
   "metadata": {},
   "source": [
    "**Parte 1.2 - Explicación**\n",
    "\n",
    "_Explica en palabras cómo vas a ejecutar la consulta_\n"
   ]
  },
  {
   "cell_type": "code",
   "execution_count": null,
   "metadata": {},
   "outputs": [],
   "source": [
    "### Parte 1.2 - código\n"
   ]
  },
  {
   "cell_type": "markdown",
   "metadata": {},
   "source": [
    "### Parte 2 [1 pto] - Índices secundarios\n",
    "\n",
    "Ahora quieres contestar de forma eficiente (es decir, en un tiempo acotado por la cantidad de personas en el área IT) la consulta:\n",
    "\n",
    "```SQL\n",
    "SELECT People.name, Projects.name \n",
    "FROM People, Projects, People_Projects\n",
    "WHERE People.id = People_Projects.person_id \n",
    "  AND Projects.id = People_Projects.project_id\n",
    "  AND People.department = 'IT'\n",
    "```\n",
    "\n",
    "1. Explica por qué con la estructura de índices de la clase Table no puedes responder esta consulta de forma eficiente.\n",
    "2. Escribe una función llamada `create_secondary_index` que reciba una columna `c`, y genere un diccionario donde la llave sean los elementos de esa columna, y el valor sea la lista de tuplas cuyo valor en la posición `c` corresponda a la llave.\n",
    "3. Ejecuta un script que conteste esta consulta, a partir de las instancias de clase Table que creaste, usando solamente el iterador y la función `index_access` provistas para esa tabla. Tu script debe usar adecuadamente los índices y tu estrategia sugerida en los puntos anteriores."
   ]
  },
  {
   "cell_type": "markdown",
   "metadata": {},
   "source": [
    "**Parte 2.1 - Explicación**\n",
    "\n",
    "_Escribe tu explicación acá_"
   ]
  },
  {
   "cell_type": "code",
   "execution_count": null,
   "metadata": {},
   "outputs": [],
   "source": [
    "# Parte 2.2 \n",
    "# Si prefieres, puedes volver a escribir el código asociado a la clase Table\n",
    "# En caso de que tengas que hacer modificaciones menores a otros métodos\n",
    "class Table:\n",
    "    pass"
   ]
  },
  {
   "cell_type": "code",
   "execution_count": null,
   "metadata": {},
   "outputs": [],
   "source": [
    "### Parte 2.3"
   ]
  },
  {
   "cell_type": "markdown",
   "metadata": {},
   "source": [
    "### Parte 3 [1.5 pts] - Índices multicolumna\n",
    "\n",
    "Ahora quieres contestar de forma eficiente la consulta \n",
    "\n",
    "```SQL\n",
    "SELECT * \n",
    "FROM Projects\n",
    "WHERE Projects.month = 10 AND Projects.year = 2023\n",
    "```\n",
    "\n",
    "1. Explica por qué los índices que tienes ahora no te sirven para ejecutar esta consulta en una sola lectura.\n",
    "2. Implementa un sistema de índices multicolumna para contestar esta consulta y crea un script que muestre su uso. Puedes volver a reescribir toda la clase `Table` si quieres."
   ]
  },
  {
   "cell_type": "markdown",
   "metadata": {},
   "source": [
    "**Parte 3.1 - Explicación**\n",
    "\n",
    "_Escribe tu explicación acá_"
   ]
  },
  {
   "cell_type": "code",
   "execution_count": null,
   "metadata": {},
   "outputs": [],
   "source": [
    "# Parte 3.2\n",
    "# Escribe el código acá"
   ]
  },
  {
   "cell_type": "markdown",
   "metadata": {},
   "source": [
    "Parte 4 [0.5 pts] - Agregación\n",
    "\n",
    "Ahora quieres hacer una consulta que te permita contar las personas por área de la empresa:\n",
    "\n",
    "```SQL\n",
    "SELECT People.department, COUNT(*)\n",
    "FROM People\n",
    "```\n",
    "\n",
    "1. Explica cómo puedes usar la estructura de índices actual para contestar esta consulta de forma eficiente.\n",
    "2. Crea un script que use la estructura de tablas e índices creada hasta ahora para contestar esta consulta acorde a la estrategia que describiste en el punto anterior."
   ]
  },
  {
   "cell_type": "markdown",
   "metadata": {},
   "source": [
    "**Parte 4.1 - Explicación**\n",
    "\n",
    "_Escribe tu explicación acá_"
   ]
  },
  {
   "cell_type": "code",
   "execution_count": null,
   "metadata": {},
   "outputs": [],
   "source": [
    "# Parte 4.2\n",
    "# Escribe el código acá"
   ]
  },
  {
   "cell_type": "markdown",
   "metadata": {},
   "source": [
    "### Parte 5 [2 pts] - Joins en relaciones n:n \n",
    "\n",
    "Ahora imagina que la tabla `People_Projects` es $n$ a $n$: una persona puede participar en muchos proyectos y un proyecto puede tener muchas personas involucradas. \n",
    "\n",
    "Ahora te interesa hacer la consulta:\n",
    "\n",
    "```SQL\n",
    "SELECT People.name, Projects.name \n",
    "FROM People, Projects, People_Projects\n",
    "WHERE People.id = People_Projects.person_id \n",
    "  AND Projects.id = People_Projects.project_id\n",
    "  AND People.department = 'IT'\n",
    "```\n",
    "\n",
    "Y también te interesa hacer la consulta:\n",
    "\n",
    "```SQL\n",
    "SELECT People.name, Projects.name \n",
    "FROM People, Projects, People_Projects\n",
    "WHERE People.id = People_Projects.person_id \n",
    "  AND Projects.id = People_Projects.project_id\n",
    "  AND Projects.month = 10 \n",
    "  AND Projects.year = 2023\n",
    "```\n",
    "\n",
    "1. Explica cómo debes indexar las tablas para poder responder a ambas consultas de forma eficiente. ¿Te basta con un índice para la tabla `People_Projects` o necesitas más?\n",
    "2. Extiende la tabla `People_Projects` para que refleje este nuevo escenario. Luego crea los índices necesarios para responder la consulta.\n",
    "3. Crea un script para responder la primera consulta de join que mostramos en este apartado.\n",
    "4. Crea un script para responder la segunda consulta de join que te mostramos en este apartado."
   ]
  },
  {
   "cell_type": "markdown",
   "metadata": {},
   "source": [
    "**Parte 5.1 - Explicación**\n",
    "\n",
    "_Escribe tu explicación acá_"
   ]
  },
  {
   "cell_type": "code",
   "execution_count": 8,
   "metadata": {},
   "outputs": [],
   "source": [
    "# Parte 5.2\n",
    "# Escribe el código acá"
   ]
  },
  {
   "cell_type": "code",
   "execution_count": 9,
   "metadata": {},
   "outputs": [],
   "source": [
    "# Parte 5.3\n",
    "# Escribe el código acá"
   ]
  },
  {
   "cell_type": "code",
   "execution_count": 10,
   "metadata": {},
   "outputs": [],
   "source": [
    "# Parte 5.4\n",
    "# Escribe el código acá"
   ]
  },
  {
   "cell_type": "markdown",
   "metadata": {},
   "source": [
    "### Parte 6 [0.5 pts] - ¿Por qué no indexamos todo?\n",
    "\n",
    "Hasta ahora hemos visto cómo los índices nos ayudan a contestar consultas más rápido, y por lo mismo, podríamos estar tentados a indexar todas las columnas de nuestra base de datos. Por lo mismo, ahora explica:\n",
    "\n",
    "1. Por qué no es buena indexar todas las columnas de la base de datos, o incluso hacer más índices de los necesarios.\n",
    "2. Qué es lo que tendrías en consideración al momento de escoger los índices que vas a crear en tu base de datos."
   ]
  },
  {
   "cell_type": "markdown",
   "metadata": {},
   "source": [
    "**Parte 6 - Respuesta**\n",
    "\n",
    "_Escribe tu respuesta a la Pregunta 6 completa acá_"
   ]
  },
  {
   "cell_type": "markdown",
   "metadata": {},
   "source": []
  }
 ],
 "metadata": {
  "kernelspec": {
   "display_name": "Python 3",
   "language": "python",
   "name": "python3"
  },
  "language_info": {
   "codemirror_mode": {
    "name": "ipython",
    "version": 3
   },
   "file_extension": ".py",
   "mimetype": "text/x-python",
   "name": "python",
   "nbconvert_exporter": "python",
   "pygments_lexer": "ipython3",
   "version": "3.12.2"
  }
 },
 "nbformat": 4,
 "nbformat_minor": 2
}
